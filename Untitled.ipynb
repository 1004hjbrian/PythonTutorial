{
 "cells": [
  {
   "cell_type": "code",
   "execution_count": 5,
   "metadata": {},
   "outputs": [],
   "source": [
    "import numpy as np\n",
    "import pandas as pd\n",
    "import matplotlib.pyplot as plt"
   ]
  },
  {
   "cell_type": "code",
   "execution_count": 6,
   "metadata": {},
   "outputs": [],
   "source": [
    "data = [[2,81],[4,93],[6,91],[8,97]]"
   ]
  },
  {
   "cell_type": "code",
   "execution_count": 7,
   "metadata": {},
   "outputs": [],
   "source": [
    "x=[i[0] for i in data]"
   ]
  },
  {
   "cell_type": "code",
   "execution_count": 8,
   "metadata": {},
   "outputs": [
    {
     "data": {
      "text/plain": [
       "[2, 4, 6, 8]"
      ]
     },
     "execution_count": 8,
     "metadata": {},
     "output_type": "execute_result"
    }
   ],
   "source": [
    "x"
   ]
  },
  {
   "cell_type": "code",
   "execution_count": 9,
   "metadata": {},
   "outputs": [
    {
     "ename": "NameError",
     "evalue": "name 'y' is not defined",
     "output_type": "error",
     "traceback": [
      "\u001b[1;31m---------------------------------------------------------------------------\u001b[0m",
      "\u001b[1;31mNameError\u001b[0m                                 Traceback (most recent call last)",
      "\u001b[1;32m<ipython-input-9-9063a9f0e032>\u001b[0m in \u001b[0;36m<module>\u001b[1;34m\u001b[0m\n\u001b[1;32m----> 1\u001b[1;33m \u001b[0my\u001b[0m\u001b[1;33m\u001b[0m\u001b[1;33m\u001b[0m\u001b[0m\n\u001b[0m",
      "\u001b[1;31mNameError\u001b[0m: name 'y' is not defined"
     ]
    }
   ],
   "source": [
    "y"
   ]
  },
  {
   "cell_type": "code",
   "execution_count": 10,
   "metadata": {},
   "outputs": [],
   "source": [
    "y=[i[1]for i in data\n",
    "  ]"
   ]
  },
  {
   "cell_type": "code",
   "execution_count": 11,
   "metadata": {},
   "outputs": [
    {
     "data": {
      "text/plain": [
       "[81, 93, 91, 97]"
      ]
     },
     "execution_count": 11,
     "metadata": {},
     "output_type": "execute_result"
    }
   ],
   "source": [
    "y"
   ]
  },
  {
   "cell_type": "code",
   "execution_count": 12,
   "metadata": {},
   "outputs": [
    {
     "data": {
      "image/png": "[encoded data removed]",
      "text/plain": [
       "<Figure size 576x216 with 1 Axes>"
      ]
     },
     "metadata": {
      "needs_background": "light"
     },
     "output_type": "display_data"
    }
   ],
   "source": [
    "plt.figure(figsize=(8,3))\n",
    "plt.scatter(x,y)\n",
    "plt.show()"
   ]
  },
  {
   "cell_type": "code",
   "execution_count": 13,
   "metadata": {},
   "outputs": [],
   "source": [
    "x_data = np.array(x)\n"
   ]
  },
  {
   "cell_type": "code",
   "execution_count": 14,
   "metadata": {},
   "outputs": [
    {
     "data": {
      "text/plain": [
       "numpy.ndarray"
      ]
     },
     "execution_count": 14,
     "metadata": {},
     "output_type": "execute_result"
    }
   ],
   "source": [
    "type(x_data)"
   ]
  },
  {
   "cell_type": "code",
   "execution_count": 15,
   "metadata": {},
   "outputs": [
    {
     "data": {
      "text/plain": [
       "(4,)"
      ]
     },
     "execution_count": 15,
     "metadata": {},
     "output_type": "execute_result"
    }
   ],
   "source": [
    "x_data.shape"
   ]
  },
  {
   "cell_type": "code",
   "execution_count": 16,
   "metadata": {},
   "outputs": [],
   "source": [
    "y_data = np.array(y)"
   ]
  },
  {
   "cell_type": "code",
   "execution_count": 17,
   "metadata": {},
   "outputs": [],
   "source": [
    "a=0\n",
    "b=0"
   ]
  },
  {
   "cell_type": "code",
   "execution_count": 18,
   "metadata": {},
   "outputs": [],
   "source": [
    "lr = 0.05"
   ]
  },
  {
   "cell_type": "code",
   "execution_count": 19,
   "metadata": {},
   "outputs": [],
   "source": [
    "epoch=2001"
   ]
  },
  {
   "cell_type": "code",
   "execution_count": 21,
   "metadata": {},
   "outputs": [
    {
     "name": "stdout",
     "output_type": "stream",
     "text": [
      "epoch=0.000000, 기울기=23.2000, 잘퍈=4.5250\n",
      "epoch=100.000000, 기울기=7.9316, 잘퍈=45.3932\n",
      "epoch=200.000000, 기울기=4.7953, 잘퍈=64.1094\n",
      "epoch=300.000000, 기울기=3.4056, 잘퍈=72.4022\n",
      "epoch=400.000000, 기울기=2.7899, 잘퍈=76.0766\n",
      "epoch=500.000000, 기울기=2.5171, 잘퍈=77.7047\n",
      "epoch=600.000000, 기울기=2.3962, 잘퍈=78.4261\n",
      "epoch=700.000000, 기울기=2.3426, 잘퍈=78.7457\n",
      "epoch=800.000000, 기울기=2.3189, 잘퍈=78.8873\n",
      "epoch=900.000000, 기울기=2.3084, 잘퍈=78.9501\n",
      "epoch=1000.000000, 기울기=2.3037, 잘퍈=78.9779\n",
      "epoch=1100.000000, 기울기=2.3016, 잘퍈=78.9902\n",
      "epoch=1200.000000, 기울기=2.3007, 잘퍈=78.9957\n",
      "epoch=1300.000000, 기울기=2.3003, 잘퍈=78.9981\n",
      "epoch=1400.000000, 기울기=2.3001, 잘퍈=78.9991\n",
      "epoch=1500.000000, 기울기=2.3001, 잘퍈=78.9996\n",
      "epoch=1600.000000, 기울기=2.3000, 잘퍈=78.9998\n",
      "epoch=1700.000000, 기울기=2.3000, 잘퍈=78.9999\n",
      "epoch=1800.000000, 기울기=2.3000, 잘퍈=79.0000\n",
      "epoch=1900.000000, 기울기=2.3000, 잘퍈=79.0000\n",
      "epoch=2000.000000, 기울기=2.3000, 잘퍈=79.0000\n"
     ]
    }
   ],
   "source": [
    "for i in range(epoch):\n",
    "    y_pred = a*x_data+b\n",
    "    error = y_data - y_pred\n",
    "    a_diff = -(1/len(x_data))*sum(x_data*(error))\n",
    "    b_diff = -(1/len(x_data))*sum(error)\n",
    "    a=a-lr*a_diff\n",
    "    b=b-lr*b_diff\n",
    "    if i % 100 ==0:\n",
    "        print('epoch=%f, 기울기=%.04f, 잘퍈=%.04f' %(i,a,b))"
   ]
  },
  {
   "cell_type": "code",
   "execution_count": null,
   "metadata": {},
   "outputs": [],
   "source": []
  }
 ],
 "metadata": {
  "kernelspec": {
   "display_name": "Python 3",
   "language": "python",
   "name": "python3"
  },
  "language_info": {
   "codemirror_mode": {
    "name": "ipython",
    "version": 3
   },
   "file_extension": ".py",
   "mimetype": "text/x-python",
   "name": "python",
   "nbconvert_exporter": "python",
   "pygments_lexer": "ipython3",
   "version": "3.8.5"
  }
 },
 "nbformat": 4,
 "nbformat_minor": 4
}
